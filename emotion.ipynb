{
 "cells": [
  {
   "cell_type": "code",
   "execution_count": 1,
   "metadata": {},
   "outputs": [
    {
     "name": "stderr",
     "output_type": "stream",
     "text": [
      "Using TensorFlow backend.\n"
     ]
    }
   ],
   "source": [
    "import data_loader\n",
    "import numpy as np\n",
    "import keras\n",
    "import pickle"
   ]
  },
  {
   "cell_type": "markdown",
   "metadata": {},
   "source": [
    "### Load the original data"
   ]
  },
  {
   "cell_type": "code",
   "execution_count": 2,
   "metadata": {},
   "outputs": [
    {
     "name": "stdout",
     "output_type": "stream",
     "text": [
      "train_images size is:  11086\n",
      "valid_images size is:  1226\n",
      "test_images size is:  1378\n",
      "label_dict size is:  8\n",
      "dict_keys(['fear', 'neutral', 'anger', 'sadness', 'disgust', 'contempt', 'surprise', 'happiness'])\n",
      "origin/images/Steven_Spielberg_0004.jpg 1\n"
     ]
    }
   ],
   "source": [
    "img_dir_path = 'origin/images'\n",
    "label_file_path = 'origin/data/legend.csv'\n",
    "valid_rate = 0.1\n",
    "\n",
    "train_file_paths, \\\n",
    "y_train, \\\n",
    "valid_file_paths, \\\n",
    "y_valid, \\\n",
    "test_file_paths, \\\n",
    "y_test, \\\n",
    "label_dict = data_loader.load_dataset(img_dir_path, label_file_path, valid_rate)\n",
    "\n",
    "print('train_images size is: ', len(train_file_paths))\n",
    "print('valid_images size is: ', len(valid_file_paths))\n",
    "print('test_images size is: ', len(test_file_paths))\n",
    "print('label_dict size is: ', len(label_dict))\n",
    "print(label_dict.keys())\n",
    "print(train_file_paths[0], y_train[0])"
   ]
  },
  {
   "cell_type": "markdown",
   "metadata": {},
   "source": [
    "### Load the extracted features by CNN"
   ]
  },
  {
   "cell_type": "code",
   "execution_count": 3,
   "metadata": {},
   "outputs": [
    {
     "name": "stdout",
     "output_type": "stream",
     "text": [
      "x_train is (11086, 512)\n",
      "x_valid is (1226, 512)\n",
      "x_test is (1378, 512)\n"
     ]
    }
   ],
   "source": [
    "with open(\"extract/x_train_norm\", \"rb\") as f:\n",
    "    x_train = np.array(pickle.load(f))\n",
    "\n",
    "with open(\"extract/x_valid_norm\", \"rb\") as f:\n",
    "    x_valid = np.array(pickle.load(f))\n",
    "\n",
    "with open(\"extract/x_test_norm\", \"rb\") as f:\n",
    "    x_test = np.array(pickle.load(f))\n",
    "\n",
    "print(\"x_train is\", x_train.shape)\n",
    "print(\"x_valid is\", x_valid.shape)\n",
    "print(\"x_test is\", x_test.shape)"
   ]
  }
 ],
 "metadata": {
  "kernelspec": {
   "display_name": "Python 3",
   "language": "python",
   "name": "python3"
  },
  "language_info": {
   "codemirror_mode": {
    "name": "ipython",
    "version": 3
   },
   "file_extension": ".py",
   "mimetype": "text/x-python",
   "name": "python",
   "nbconvert_exporter": "python",
   "pygments_lexer": "ipython3",
   "version": "3.6.5"
  }
 },
 "nbformat": 4,
 "nbformat_minor": 2
}
