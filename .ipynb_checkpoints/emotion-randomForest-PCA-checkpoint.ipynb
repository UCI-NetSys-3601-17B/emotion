{
 "cells": [
  {
   "cell_type": "code",
   "execution_count": 5,
   "metadata": {},
   "outputs": [],
   "source": [
    "import data_loader\n",
    "import numpy as np\n",
    "import keras\n",
    "import pickle\n",
    "import cv2\n",
    "import matplotlib.pyplot as plt\n",
    "from sklearn.tree import DecisionTreeClassifier\n",
    "from time import time as runtime\n",
    "from sklearn.ensemble import RandomForestClassifier\n",
    "from sklearn.decomposition import PCA\n",
    "from sklearn.model_selection import GridSearchCV\n",
    "from sklearn.pipeline import Pipeline\n",
    "from sklearn.model_selection import train_test_split\n",
    "from sklearn.metrics import confusion_matrix\n",
    "from sklearn.metrics import classification_report\n",
    "import random"
   ]
  },
  {
   "cell_type": "markdown",
   "metadata": {},
   "source": [
    "### Load the original data"
   ]
  },
  {
   "cell_type": "code",
   "execution_count": 6,
   "metadata": {},
   "outputs": [
    {
     "name": "stdout",
     "output_type": "stream",
     "text": [
      "train_images size is:  11086\n",
      "valid_images size is:  1226\n",
      "test_images size is:  1378\n",
      "label_dict size is:  8\n",
      "dict_keys(['happiness', 'anger', 'surprise', 'contempt', 'neutral', 'fear', 'disgust', 'sadness'])\n",
      "y_train: (11086,)\n",
      "y_valid: (1226,)\n"
     ]
    }
   ],
   "source": [
    "img_dir_path = 'origin/images'\n",
    "label_file_path = 'origin/data/legend.csv'\n",
    "valid_rate = 0.1\n",
    "\n",
    "train_file_paths, \\\n",
    "y_train, \\\n",
    "valid_file_paths, \\\n",
    "y_valid, \\\n",
    "test_file_paths, \\\n",
    "y_test, \\\n",
    "label_dict = data_loader.load_dataset(img_dir_path, label_file_path, valid_rate)\n",
    "\n",
    "print('train_images size is: ', len(train_file_paths))\n",
    "print('valid_images size is: ', len(valid_file_paths))\n",
    "print('test_images size is: ', len(test_file_paths))\n",
    "print('label_dict size is: ', len(label_dict))\n",
    "print(label_dict.keys())\n",
    "\n",
    "print('y_train:', y_train.shape)\n",
    "print('y_valid:', y_valid.shape)"
   ]
  },
  {
   "cell_type": "markdown",
   "metadata": {},
   "source": [
    "### Load the extracted features by CNN"
   ]
  },
  {
   "cell_type": "code",
   "execution_count": 7,
   "metadata": {},
   "outputs": [
    {
     "name": "stdout",
     "output_type": "stream",
     "text": [
      "x_train is (11086, 512)\n",
      "x_valid is (1226, 512)\n",
      "x_test is (1378, 512)\n"
     ]
    }
   ],
   "source": [
    "with open(\"extract/x_train_norm\", \"rb\") as f:\n",
    "    x_train = np.array(pickle.load(f))\n",
    "\n",
    "with open(\"extract/x_valid_norm\", \"rb\") as f:\n",
    "    x_valid = np.array(pickle.load(f))\n",
    "\n",
    "with open(\"extract/x_test_norm\", \"rb\") as f:\n",
    "    x_test = np.array(pickle.load(f))\n",
    "\n",
    "print(\"x_train is\", x_train.shape)\n",
    "print(\"x_valid is\", x_valid.shape)\n",
    "print(\"x_test is\", x_test.shape)"
   ]
  },
  {
   "cell_type": "markdown",
   "metadata": {},
   "source": [
    "### implement random Forest"
   ]
  },
  {
   "cell_type": "code",
   "execution_count": 8,
   "metadata": {
    "scrolled": false
   },
   "outputs": [
    {
     "name": "stdout",
     "output_type": "stream",
     "text": [
      "training accuracy (tree number: 25 , depth: 10 ): 0.7813458416020206\n",
      "validation accuracy (tree number: 25 ,depth: 10 ): 0.499184339314845\n",
      "test accuracy (tree number: 25 ,depth: 10 ): 0.4898403483309144\n",
      "training accuracy (tree number: 25 , depth: 12 ): 0.8630705394190872\n",
      "validation accuracy (tree number: 25 ,depth: 12 ): 0.4934747145187602\n",
      "test accuracy (tree number: 25 ,depth: 12 ): 0.4869375907111756\n",
      "training accuracy (tree number: 25 , depth: 14 ): 0.9082626736424319\n",
      "validation accuracy (tree number: 25 ,depth: 14 ): 0.5024469820554649\n",
      "test accuracy (tree number: 25 ,depth: 14 ): 0.5087082728592163\n",
      "training accuracy (tree number: 25 , depth: 16 ): 0.9511997113476457\n",
      "validation accuracy (tree number: 25 ,depth: 16 ): 0.50163132137031\n",
      "test accuracy (tree number: 25 ,depth: 16 ): 0.4985486211901306\n",
      "training accuracy (tree number: 25 , depth: 18 ): 0.9784412772866679\n",
      "validation accuracy (tree number: 25 ,depth: 18 ): 0.4722675367047308\n",
      "test accuracy (tree number: 25 ,depth: 18 ): 0.4811320754716981\n",
      "training accuracy (tree number: 25 , depth: 20 ): 0.9929640988634314\n",
      "validation accuracy (tree number: 25 ,depth: 20 ): 0.4796084828711256\n",
      "test accuracy (tree number: 25 ,depth: 20 ): 0.48911465892597966\n",
      "training accuracy (tree number: 25 , depth: 22 ): 0.9963918455709905\n",
      "validation accuracy (tree number: 25 ,depth: 22 ): 0.4804241435562806\n",
      "test accuracy (tree number: 25 ,depth: 22 ): 0.4716981132075472\n",
      "training accuracy (tree number: 25 , depth: 24 ): 0.9975644957604185\n",
      "validation accuracy (tree number: 25 ,depth: 24 ): 0.5114192495921697\n",
      "test accuracy (tree number: 25 ,depth: 24 ): 0.4731494920174166\n",
      "training accuracy (tree number: 50 , depth: 10 ): 0.8091286307053942\n",
      "validation accuracy (tree number: 50 ,depth: 10 ): 0.5032626427406199\n",
      "test accuracy (tree number: 50 ,depth: 10 ): 0.5043541364296081\n",
      "training accuracy (tree number: 50 , depth: 12 ): 0.8970773949125023\n",
      "validation accuracy (tree number: 50 ,depth: 12 ): 0.499184339314845\n",
      "test accuracy (tree number: 50 ,depth: 12 ): 0.48548621190130625\n",
      "training accuracy (tree number: 50 , depth: 14 ): 0.922605087497745\n",
      "validation accuracy (tree number: 50 ,depth: 14 ): 0.5089722675367048\n",
      "test accuracy (tree number: 50 ,depth: 14 ): 0.5050798258345428\n",
      "training accuracy (tree number: 50 , depth: 16 ): 0.9544470503337543\n",
      "validation accuracy (tree number: 50 ,depth: 16 ): 0.5114192495921697\n",
      "test accuracy (tree number: 50 ,depth: 16 ): 0.4941944847605225\n",
      "training accuracy (tree number: 50 , depth: 18 ): 0.9873714594984665\n",
      "validation accuracy (tree number: 50 ,depth: 18 ): 0.5154975530179445\n",
      "test accuracy (tree number: 50 ,depth: 18 ): 0.49129172714078373\n",
      "training accuracy (tree number: 50 , depth: 20 ): 0.9977449034818691\n",
      "validation accuracy (tree number: 50 ,depth: 20 ): 0.48450244698205547\n",
      "test accuracy (tree number: 50 ,depth: 20 ): 0.49201741654571846\n",
      "training accuracy (tree number: 50 , depth: 22 ): 0.9990979613927476\n",
      "validation accuracy (tree number: 50 ,depth: 22 ): 0.49184339314845027\n",
      "test accuracy (tree number: 50 ,depth: 22 ): 0.4833091436865022\n",
      "training accuracy (tree number: 50 , depth: 24 ): 0.9992783691141981\n",
      "validation accuracy (tree number: 50 ,depth: 24 ): 0.5130505709624796\n",
      "test accuracy (tree number: 50 ,depth: 24 ): 0.488388969521045\n",
      "training accuracy (tree number: 75 , depth: 10 ): 0.8328522460761321\n",
      "validation accuracy (tree number: 75 ,depth: 10 ): 0.5138662316476346\n",
      "test accuracy (tree number: 75 ,depth: 10 ): 0.4934687953555878\n",
      "training accuracy (tree number: 75 , depth: 12 ): 0.906819411870828\n",
      "validation accuracy (tree number: 75 ,depth: 12 ): 0.5154975530179445\n",
      "test accuracy (tree number: 75 ,depth: 12 ): 0.5043541364296081\n",
      "training accuracy (tree number: 75 , depth: 14 ): 0.9243189608515244\n",
      "validation accuracy (tree number: 75 ,depth: 14 ): 0.5154975530179445\n",
      "test accuracy (tree number: 75 ,depth: 14 ): 0.5108853410740203\n",
      "training accuracy (tree number: 75 , depth: 16 ): 0.9576943893198628\n",
      "validation accuracy (tree number: 75 ,depth: 16 ): 0.5048939641109299\n",
      "test accuracy (tree number: 75 ,depth: 16 ): 0.502177068214804\n",
      "training accuracy (tree number: 75 , depth: 18 ): 0.9910698177882014\n",
      "validation accuracy (tree number: 75 ,depth: 18 ): 0.499184339314845\n",
      "test accuracy (tree number: 75 ,depth: 18 ): 0.5029027576197388\n",
      "training accuracy (tree number: 75 , depth: 20 ): 0.9990979613927476\n",
      "validation accuracy (tree number: 75 ,depth: 20 ): 0.4967373572593801\n",
      "test accuracy (tree number: 75 ,depth: 20 ): 0.4941944847605225\n",
      "training accuracy (tree number: 75 , depth: 22 ): 0.9994587768356485\n",
      "validation accuracy (tree number: 75 ,depth: 22 ): 0.49429037520391517\n",
      "test accuracy (tree number: 75 ,depth: 22 ): 0.49709724238026126\n",
      "training accuracy (tree number: 75 , depth: 24 ): 0.9993685729749233\n",
      "validation accuracy (tree number: 75 ,depth: 24 ): 0.5171288743882545\n",
      "test accuracy (tree number: 75 ,depth: 24 ): 0.5123367198838897\n",
      "training accuracy (tree number: 100 , depth: 10 ): 0.8471044560707198\n",
      "validation accuracy (tree number: 100 ,depth: 10 ): 0.5089722675367048\n",
      "test accuracy (tree number: 100 ,depth: 10 ): 0.49709724238026126\n",
      "training accuracy (tree number: 100 , depth: 12 ): 0.9104275662998377\n",
      "validation accuracy (tree number: 100 ,depth: 12 ): 0.5065252854812398\n",
      "test accuracy (tree number: 100 ,depth: 12 ): 0.5050798258345428\n",
      "training accuracy (tree number: 100 , depth: 14 ): 0.9233267183835469\n",
      "validation accuracy (tree number: 100 ,depth: 14 ): 0.5285481239804242\n",
      "test accuracy (tree number: 100 ,depth: 14 ): 0.5072568940493469\n",
      "training accuracy (tree number: 100 , depth: 16 ): 0.9570629622947863\n",
      "validation accuracy (tree number: 100 ,depth: 16 ): 0.49836867862969003\n",
      "test accuracy (tree number: 100 ,depth: 16 ): 0.4927431059506531\n",
      "training accuracy (tree number: 100 , depth: 18 ): 0.9945877683564857\n",
      "validation accuracy (tree number: 100 ,depth: 18 ): 0.5032626427406199\n",
      "test accuracy (tree number: 100 ,depth: 18 ): 0.49637155297532654\n",
      "training accuracy (tree number: 100 , depth: 20 ): 0.9992783691141981\n",
      "validation accuracy (tree number: 100 ,depth: 20 ): 0.49836867862969003\n",
      "test accuracy (tree number: 100 ,depth: 20 ): 0.5\n",
      "training accuracy (tree number: 100 , depth: 22 ): 0.9994587768356485\n",
      "validation accuracy (tree number: 100 ,depth: 22 ): 0.49184339314845027\n",
      "test accuracy (tree number: 100 ,depth: 22 ): 0.49709724238026126\n",
      "training accuracy (tree number: 100 , depth: 24 ): 0.9994587768356485\n",
      "validation accuracy (tree number: 100 ,depth: 24 ): 0.5154975530179445\n",
      "test accuracy (tree number: 100 ,depth: 24 ): 0.49709724238026126\n",
      "training accuracy (tree number: 125 , depth: 10 ): 0.8556738228396176\n",
      "validation accuracy (tree number: 125 ,depth: 10 ): 0.49836867862969003\n",
      "test accuracy (tree number: 125 ,depth: 10 ): 0.49927431059506533\n",
      "training accuracy (tree number: 125 , depth: 12 ): 0.9125022550965182\n",
      "validation accuracy (tree number: 125 ,depth: 12 ): 0.49836867862969003\n",
      "test accuracy (tree number: 125 ,depth: 12 ): 0.5\n",
      "training accuracy (tree number: 125 , depth: 14 ): 0.924138553130074\n",
      "validation accuracy (tree number: 125 ,depth: 14 ): 0.5122349102773246\n",
      "test accuracy (tree number: 125 ,depth: 14 ): 0.511611030478955\n",
      "training accuracy (tree number: 125 , depth: 16 ): 0.9573335738769619\n",
      "validation accuracy (tree number: 125 ,depth: 16 ): 0.499184339314845\n",
      "test accuracy (tree number: 125 ,depth: 16 ): 0.5\n",
      "training accuracy (tree number: 125 , depth: 18 ): 0.99431715677431\n",
      "validation accuracy (tree number: 125 ,depth: 18 ): 0.4967373572593801\n",
      "test accuracy (tree number: 125 ,depth: 18 ): 0.502177068214804\n",
      "training accuracy (tree number: 125 , depth: 20 ): 0.9990979613927476\n",
      "validation accuracy (tree number: 125 ,depth: 20 ): 0.5024469820554649\n",
      "test accuracy (tree number: 125 ,depth: 20 ): 0.4927431059506531\n",
      "training accuracy (tree number: 125 , depth: 22 ): 0.9994587768356485\n",
      "validation accuracy (tree number: 125 ,depth: 22 ): 0.48450244698205547\n",
      "test accuracy (tree number: 125 ,depth: 22 ): 0.4941944847605225\n",
      "training accuracy (tree number: 125 , depth: 24 ): 0.9994587768356485\n",
      "validation accuracy (tree number: 125 ,depth: 24 ): 0.5122349102773246\n",
      "test accuracy (tree number: 125 ,depth: 24 ): 0.5123367198838897\n",
      "training accuracy (tree number: 150 , depth: 10 ): 0.8636117625834385\n",
      "validation accuracy (tree number: 150 ,depth: 10 ): 0.5057096247960848\n",
      "test accuracy (tree number: 150 ,depth: 10 ): 0.4985486211901306\n"
     ]
    },
    {
     "name": "stdout",
     "output_type": "stream",
     "text": [
      "training accuracy (tree number: 150 , depth: 12 ): 0.9151181670575501\n",
      "validation accuracy (tree number: 150 ,depth: 12 ): 0.5032626427406199\n",
      "test accuracy (tree number: 150 ,depth: 12 ): 0.5\n",
      "training accuracy (tree number: 150 , depth: 14 ): 0.9244993685729749\n",
      "validation accuracy (tree number: 150 ,depth: 14 ): 0.5097879282218597\n",
      "test accuracy (tree number: 150 ,depth: 14 ): 0.5174165457184325\n",
      "training accuracy (tree number: 150 , depth: 16 ): 0.9570629622947863\n",
      "validation accuracy (tree number: 150 ,depth: 16 ): 0.5163132137030995\n",
      "test accuracy (tree number: 150 ,depth: 16 ): 0.5043541364296081\n",
      "training accuracy (tree number: 150 , depth: 18 ): 0.9952191953815623\n",
      "validation accuracy (tree number: 150 ,depth: 18 ): 0.5048939641109299\n",
      "test accuracy (tree number: 150 ,depth: 18 ): 0.4862119013062409\n",
      "training accuracy (tree number: 150 , depth: 20 ): 0.9992783691141981\n",
      "validation accuracy (tree number: 150 ,depth: 20 ): 0.5089722675367048\n",
      "test accuracy (tree number: 150 ,depth: 20 ): 0.49564586357039186\n",
      "training accuracy (tree number: 150 , depth: 22 ): 0.9994587768356485\n",
      "validation accuracy (tree number: 150 ,depth: 22 ): 0.5081566068515497\n",
      "test accuracy (tree number: 150 ,depth: 22 ): 0.49056603773584906\n",
      "training accuracy (tree number: 150 , depth: 24 ): 0.9994587768356485\n",
      "validation accuracy (tree number: 150 ,depth: 24 ): 0.5040783034257749\n",
      "test accuracy (tree number: 150 ,depth: 24 ): 0.5130624092888244\n",
      "training accuracy (tree number: 175 , depth: 10 ): 0.8720007216308858\n",
      "validation accuracy (tree number: 175 ,depth: 10 ): 0.50163132137031\n",
      "test accuracy (tree number: 175 ,depth: 10 ): 0.5007256894049347\n",
      "training accuracy (tree number: 175 , depth: 12 ): 0.9166516326898791\n",
      "validation accuracy (tree number: 175 ,depth: 12 ): 0.5089722675367048\n",
      "test accuracy (tree number: 175 ,depth: 12 ): 0.4985486211901306\n",
      "training accuracy (tree number: 175 , depth: 14 ): 0.9244993685729749\n",
      "validation accuracy (tree number: 175 ,depth: 14 ): 0.5130505709624796\n",
      "test accuracy (tree number: 175 ,depth: 14 ): 0.5050798258345428\n",
      "training accuracy (tree number: 175 , depth: 16 ): 0.9582356124842143\n",
      "validation accuracy (tree number: 175 ,depth: 16 ): 0.5073409461663948\n",
      "test accuracy (tree number: 175 ,depth: 16 ): 0.5050798258345428\n",
      "training accuracy (tree number: 175 , depth: 18 ): 0.9953093992422876\n",
      "validation accuracy (tree number: 175 ,depth: 18 ): 0.49755301794453505\n",
      "test accuracy (tree number: 175 ,depth: 18 ): 0.488388969521045\n",
      "training accuracy (tree number: 175 , depth: 20 ): 0.9994587768356485\n",
      "validation accuracy (tree number: 175 ,depth: 20 ): 0.5146818923327896\n",
      "test accuracy (tree number: 175 ,depth: 20 ): 0.4949201741654572\n",
      "training accuracy (tree number: 175 , depth: 22 ): 0.9994587768356485\n",
      "validation accuracy (tree number: 175 ,depth: 22 ): 0.5040783034257749\n",
      "test accuracy (tree number: 175 ,depth: 22 ): 0.4949201741654572\n",
      "training accuracy (tree number: 175 , depth: 24 ): 0.9994587768356485\n",
      "validation accuracy (tree number: 175 ,depth: 24 ): 0.5065252854812398\n",
      "test accuracy (tree number: 175 ,depth: 24 ): 0.5123367198838897\n",
      "training accuracy (tree number: 200 , depth: 10 ): 0.8770521378314992\n",
      "validation accuracy (tree number: 200 ,depth: 10 ): 0.5040783034257749\n",
      "test accuracy (tree number: 200 ,depth: 10 ): 0.5014513788098693\n",
      "training accuracy (tree number: 200 , depth: 12 ): 0.9175536712971315\n",
      "validation accuracy (tree number: 200 ,depth: 12 ): 0.5032626427406199\n",
      "test accuracy (tree number: 200 ,depth: 12 ): 0.5014513788098693\n",
      "training accuracy (tree number: 200 , depth: 14 ): 0.9244091647122497\n",
      "validation accuracy (tree number: 200 ,depth: 14 ): 0.5089722675367048\n",
      "test accuracy (tree number: 200 ,depth: 14 ): 0.5036284470246735\n",
      "training accuracy (tree number: 200 , depth: 16 ): 0.9594984665343677\n",
      "validation accuracy (tree number: 200 ,depth: 16 ): 0.5073409461663948\n",
      "test accuracy (tree number: 200 ,depth: 16 ): 0.511611030478955\n",
      "training accuracy (tree number: 200 , depth: 18 ): 0.9968428648746166\n",
      "validation accuracy (tree number: 200 ,depth: 18 ): 0.5032626427406199\n",
      "test accuracy (tree number: 200 ,depth: 18 ): 0.4898403483309144\n",
      "training accuracy (tree number: 200 , depth: 20 ): 0.9994587768356485\n",
      "validation accuracy (tree number: 200 ,depth: 20 ): 0.5114192495921697\n",
      "test accuracy (tree number: 200 ,depth: 20 ): 0.5065312046444121\n",
      "training accuracy (tree number: 200 , depth: 22 ): 0.9994587768356485\n",
      "validation accuracy (tree number: 200 ,depth: 22 ): 0.4902120717781403\n",
      "test accuracy (tree number: 200 ,depth: 22 ): 0.5043541364296081\n",
      "training accuracy (tree number: 200 , depth: 24 ): 0.9994587768356485\n",
      "validation accuracy (tree number: 200 ,depth: 24 ): 0.5106035889070146\n",
      "test accuracy (tree number: 200 ,depth: 24 ): 0.5130624092888244\n"
     ]
    }
   ],
   "source": [
    "train_rate_all = []\n",
    "valid_rate_all = []\n",
    "test_rate_all = []\n",
    "estimator_number = [25, 50, 75, 100, 125, 150, 175, 200]\n",
    "depth = [10, 12, 14, 16, 18, 20, 22, 24]\n",
    "# process the training data\n",
    "for num in estimator_number:\n",
    "    train_rate = []\n",
    "    valid_rate = []\n",
    "    test_rate = []\n",
    "    for d in depth:\n",
    "        clf = clf = RandomForestClassifier(n_estimators=num, max_depth=d,random_state=0)\n",
    "        clf.fit(x_train, y_train)\n",
    "        # training data predict\n",
    "        Xtr_pre = clf.predict(x_train)\n",
    "        # validation data predict\n",
    "        Xva_pre = clf.predict(x_valid)\n",
    "        # test data predict\n",
    "        xte_pre = clf.predict(x_test)\n",
    "\n",
    "        # training data rate\n",
    "        train_count = 0;\n",
    "        for i in range(len(y_train)):\n",
    "            if y_train[i] == Xtr_pre[i]:\n",
    "                train_count += 1\n",
    "        train_rate.append(train_count/len(x_train))\n",
    "        print('training accuracy (tree number:',num,', depth:',d,'):',train_count/len(x_train))\n",
    "\n",
    "        # validation data rate\n",
    "        validation_count = 0;\n",
    "        for i in range(len(y_valid)):\n",
    "            if y_valid[i] == Xva_pre[i]:\n",
    "                validation_count += 1\n",
    "        valid_rate.append(validation_count/len(x_valid))\n",
    "        print('validation accuracy (tree number:',num,',depth:',d,'):',validation_count/len(x_valid))\n",
    "\n",
    "        # test data rate\n",
    "        test_count = 0;\n",
    "        for i in range(len(y_test)):\n",
    "            if y_test[i] == xte_pre[i]:\n",
    "                test_count += 1\n",
    "        test_rate.append(test_count/len(x_test))\n",
    "        print('test accuracy (tree number:',num,',depth:',d,'):',test_count/len(x_test))\n",
    "    train_rate_all.append(train_rate)\n",
    "    valid_rate_all.append(valid_rate)\n",
    "    test_rate_all.append(test_rate)"
   ]
  },
  {
   "cell_type": "markdown",
   "metadata": {},
   "source": [
    "### Plot the accuracy in color bar"
   ]
  },
  {
   "cell_type": "code",
   "execution_count": 9,
   "metadata": {
    "scrolled": false
   },
   "outputs": [
    {
     "data": {
      "image/png": "[encoded data removed]",
      "text/plain": [
       "<Figure size 576x360 with 2 Axes>"
      ]
     },
     "metadata": {},
     "output_type": "display_data"
    },
    {
     "data": {
      "image/png": "[encoded data removed]",
      "text/plain": [
       "<Figure size 576x360 with 2 Axes>"
      ]
     },
     "metadata": {},
     "output_type": "display_data"
    },
    {
     "data": {
      "image/png": "[encoded data removed]",
      "text/plain": [
       "<Figure size 576x360 with 2 Axes>"
      ]
     },
     "metadata": {},
     "output_type": "display_data"
    }
   ],
   "source": [
    "# plot train error\n",
    "f, ax = plt.subplots(1, 1, figsize=(8, 5))\n",
    "cax = ax.matshow(train_rate_all, interpolation='nearest')\n",
    "f.colorbar(cax)\n",
    "ax.set_xticklabels(['']+depth) \n",
    "ax.set_yticklabels(['']+estimator_number)\n",
    "plt.show()\n",
    "\n",
    "# plot validation error\n",
    "f, ax = plt.subplots(1, 1, figsize=(8, 5))\n",
    "cax = ax.matshow(valid_rate_all, interpolation='nearest')\n",
    "f.colorbar(cax)\n",
    "ax.set_xticklabels(['']+depth) \n",
    "ax.set_yticklabels(['']+estimator_number)\n",
    "plt.show()\n",
    "\n",
    "# plot test error\n",
    "f, ax = plt.subplots(1, 1, figsize=(8, 5))\n",
    "cax = ax.matshow(test_rate_all, interpolation='nearest')\n",
    "f.colorbar(cax)\n",
    "ax.set_xticklabels(['']+depth) \n",
    "ax.set_yticklabels(['']+estimator_number)\n",
    "plt.show()"
   ]
  },
  {
   "cell_type": "markdown",
   "metadata": {},
   "source": [
    "### Using different max_features to explore"
   ]
  },
  {
   "cell_type": "code",
   "execution_count": null,
   "metadata": {},
   "outputs": [],
   "source": []
  },
  {
   "cell_type": "markdown",
   "metadata": {},
   "source": [
    "### PCA"
   ]
  },
  {
   "cell_type": "code",
   "execution_count": 10,
   "metadata": {},
   "outputs": [],
   "source": [
    "train_data = np.zeros((len(x_train), 350*350*3))\n",
    "for i in range(len(x_train)):\n",
    "    img = cv2.imread(train_file_paths[i])\n",
    "    size = img.shape\n",
    "    if (size[0] != 350 or size[1] != 350):\n",
    "        img = cv2.resize(img, (350,350), interpolation=cv2.INTER_CUBIC)\n",
    "    img_flatten = img.flatten()\n",
    "    train_data[i] = img_flatten"
   ]
  },
  {
   "cell_type": "code",
   "execution_count": 11,
   "metadata": {},
   "outputs": [
    {
     "name": "stdout",
     "output_type": "stream",
     "text": [
      "(11086, 367500)\n"
     ]
    }
   ],
   "source": [
    "print(train_data.shape)"
   ]
  },
  {
   "cell_type": "code",
   "execution_count": null,
   "metadata": {},
   "outputs": [],
   "source": [
    "pca_train = PCA(n_components=512)\n",
    "pca_tr = pca_train.fit_transform(train_data)\n",
    "print(pca_tr.shape)\n",
    "# pickle the PCA element\n",
    "with open('PCA/pca_result','wb') as file_train:\n",
    "    pickle.dump(pca_tr, file_train)"
   ]
  },
  {
   "cell_type": "code",
   "execution_count": null,
   "metadata": {},
   "outputs": [],
   "source": [
    "# process the validation data\n",
    "valid_data = np.zeros((len(x_valid), 350*350*3))\n",
    "for i in range(len(x_valid)):\n",
    "    img = cv2.imread(valid_file_paths[i])\n",
    "    size = img.shape\n",
    "    if (size[0] != 350 or size[1] != 350):\n",
    "        img = cv2.resize(img, (350,350), interpolation=cv2.INTER_CUBIC)\n",
    "    img_flatten = img.flatten()\n",
    "    valid_data[i] = img_flatten\n",
    "\n",
    "pca_validation = PCA(n_components=512)\n",
    "pca_va = pca_validation.fit_transform(valid_data)\n",
    "print(pca_va.shape)\n",
    "\n",
    "# pickle the PCA validation element\n",
    "with open('PCA/pca_validation_result','wb') as file_validation:\n",
    "    pickle.dump(pca_va, file_validation)"
   ]
  },
  {
   "cell_type": "code",
   "execution_count": null,
   "metadata": {},
   "outputs": [],
   "source": [
    "# process the test data\n",
    "test_data = np.zeros((len(x_test), 350*350*3))\n",
    "for i in range(len(x_test)):\n",
    "    img = cv2.imread(test_file_paths[i])\n",
    "    size = img.shape\n",
    "    if (size[0] != 350 or size[1] != 350):\n",
    "        img = cv2.resize(img, (350,350), interpolation=cv2.INTER_CUBIC)\n",
    "    img_flatten = img.flatten()\n",
    "    test_data[i] = img_flatten\n",
    "\n",
    "pca_test = PCA(n_components=512)\n",
    "pca_te = pca_validation.fit_transform(test_data)\n",
    "print(pca_te.shape)\n",
    "\n",
    "# pickle the PCA validation element\n",
    "with open('PCA/pca_test_result','wb') as file_test:\n",
    "    pickle.dump(pca_te, file_test)"
   ]
  },
  {
   "cell_type": "code",
   "execution_count": null,
   "metadata": {},
   "outputs": [],
   "source": []
  },
  {
   "cell_type": "code",
   "execution_count": null,
   "metadata": {},
   "outputs": [],
   "source": []
  }
 ],
 "metadata": {
  "kernelspec": {
   "display_name": "Python 3",
   "language": "python",
   "name": "python3"
  },
  "language_info": {
   "codemirror_mode": {
    "name": "ipython",
    "version": 3
   },
   "file_extension": ".py",
   "mimetype": "text/x-python",
   "name": "python",
   "nbconvert_exporter": "python",
   "pygments_lexer": "ipython3",
   "version": "3.6.5"
  }
 },
 "nbformat": 4,
 "nbformat_minor": 2
}
