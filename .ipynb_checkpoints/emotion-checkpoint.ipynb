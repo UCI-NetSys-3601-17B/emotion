{
 "cells": [
  {
   "cell_type": "code",
   "execution_count": 25,
   "metadata": {},
   "outputs": [],
   "source": [
    "import data_loader\n",
    "import numpy as np\n",
    "import keras\n",
    "import pickle\n",
    "import matplotlib.pyplot as plt\n",
    "from keras.models import Sequential\n",
    "from keras.layers.core import Dense, Dropout\n",
    "from keras.utils import np_utils\n",
    "from keras.optimizers import SGD"
   ]
  },
  {
   "cell_type": "markdown",
   "metadata": {},
   "source": [
    "### Load the original data"
   ]
  },
  {
   "cell_type": "code",
   "execution_count": 2,
   "metadata": {},
   "outputs": [
    {
     "name": "stdout",
     "output_type": "stream",
     "text": [
      "train_images size is:  11086\n",
      "valid_images size is:  1226\n",
      "test_images size is:  1378\n",
      "label_dict size is:  8\n",
      "dict_keys(['contempt', 'sadness', 'surprise', 'happiness', 'neutral', 'disgust', 'anger', 'fear'])\n"
     ]
    }
   ],
   "source": [
    "img_dir_path = 'origin/images'\n",
    "label_file_path = 'origin/data/legend.csv'\n",
    "valid_rate = 0.1\n",
    "\n",
    "train_file_paths, \\\n",
    "train_labels, \\\n",
    "valid_file_paths, \\\n",
    "valid_labels, \\\n",
    "test_file_paths, \\\n",
    "test_labels, \\\n",
    "label_dict = data_loader.load_dataset(img_dir_path, label_file_path, valid_rate)\n",
    "\n",
    "print('train_images size is: ', len(train_file_paths))\n",
    "print('valid_images size is: ', len(valid_file_paths))\n",
    "print('test_images size is: ', len(test_file_paths))\n",
    "print('label_dict size is: ', len(label_dict))\n",
    "print(label_dict.keys())"
   ]
  },
  {
   "cell_type": "markdown",
   "metadata": {},
   "source": [
    "### Load the extracted features by CNN"
   ]
  },
  {
   "cell_type": "code",
   "execution_count": 7,
   "metadata": {},
   "outputs": [
    {
     "name": "stdout",
     "output_type": "stream",
     "text": [
      "x_train is (11086, 512)\n",
      "x_valid is (1226, 512)\n",
      "x_test is (1378, 512)\n",
      "y_train is (11086, 8)\n",
      "y_valid is (1226, 8)\n",
      "y_test is (1378, 8)\n"
     ]
    }
   ],
   "source": [
    "with open(\"extract/x_train_norm\", \"rb\") as f:\n",
    "    x_train = np.array(pickle.load(f))\n",
    "\n",
    "with open(\"extract/x_valid_norm\", \"rb\") as f:\n",
    "    x_valid = np.array(pickle.load(f))\n",
    "\n",
    "with open(\"extract/x_test_norm\", \"rb\") as f:\n",
    "    x_test = np.array(pickle.load(f))\n",
    "\n",
    "y_train = np_utils.to_categorical(train_labels, 8)\n",
    "y_valid = np_utils.to_categorical(valid_labels, 8)\n",
    "y_test = np_utils.to_categorical(test_labels, 8)\n",
    "\n",
    "print(\"x_train is\", x_train.shape)\n",
    "print(\"x_valid is\", x_valid.shape)\n",
    "print(\"x_test is\", x_test.shape)\n",
    "\n",
    "print(\"y_train is\", y_train.shape)\n",
    "print(\"y_valid is\", y_valid.shape)\n",
    "print(\"y_test is\", y_test.shape)"
   ]
  },
  {
   "cell_type": "code",
   "execution_count": 21,
   "metadata": {},
   "outputs": [],
   "source": [
    "class LossHistory(keras.callbacks.Callback):\n",
    "    def on_train_begin(self, logs={}):\n",
    "        self.losses = {'batch':[], 'epoch':[]}\n",
    "        self.accuracy = {'batch':[], 'epoch':[]}\n",
    "        self.val_loss = {'batch':[], 'epoch':[]}\n",
    "        self.val_acc = {'batch':[], 'epoch':[]}\n",
    "\n",
    "    def on_batch_end(self, batch, logs={}):\n",
    "        self.losses['batch'].append(logs.get('loss'))\n",
    "        self.accuracy['batch'].append(logs.get('acc'))\n",
    "        self.val_loss['batch'].append(logs.get('val_loss'))\n",
    "        self.val_acc['batch'].append(logs.get('val_acc'))\n",
    "\n",
    "    def on_epoch_end(self, batch, logs={}):\n",
    "        self.losses['epoch'].append(logs.get('loss'))\n",
    "        self.accuracy['epoch'].append(logs.get('acc'))\n",
    "        self.val_loss['epoch'].append(logs.get('val_loss'))\n",
    "        self.val_acc['epoch'].append(logs.get('val_acc'))\n",
    "\n",
    "    def loss_plot(self, loss_type):\n",
    "        iters = range(len(self.losses[loss_type]))\n",
    "        plt.figure()\n",
    "        # acc\n",
    "        plt.plot(iters, self.accuracy[loss_type], 'r', label='train acc')\n",
    "        # loss\n",
    "        plt.plot(iters, self.losses[loss_type], 'g', label='train loss')\n",
    "        if loss_type == 'epoch':\n",
    "            # val_acc\n",
    "            plt.plot(iters, self.val_acc[loss_type], 'b', label='val acc')\n",
    "            # val_loss\n",
    "            plt.plot(iters, self.val_loss[loss_type], 'k', label='val loss')\n",
    "        plt.grid(True)\n",
    "        plt.xlabel(loss_type)\n",
    "        plt.ylabel('acc-loss')\n",
    "        plt.legend(loc=\"upper right\")\n",
    "        plt.show()"
   ]
  },
  {
   "cell_type": "code",
   "execution_count": 29,
   "metadata": {},
   "outputs": [
    {
     "name": "stdout",
     "output_type": "stream",
     "text": [
      "Train on 11086 samples, validate on 1378 samples\n",
      "Epoch 1/20\n",
      "11086/11086 [==============================] - 1s 96us/step - loss: 0.3729 - acc: 0.8750 - val_loss: 0.3701 - val_acc: 0.8750\n",
      "Epoch 2/20\n",
      "11086/11086 [==============================] - 0s 17us/step - loss: 0.3666 - acc: 0.8750 - val_loss: 0.3636 - val_acc: 0.8750\n",
      "Epoch 3/20\n",
      "11086/11086 [==============================] - 0s 17us/step - loss: 0.3601 - acc: 0.8750 - val_loss: 0.3572 - val_acc: 0.8750\n",
      "Epoch 4/20\n",
      "11086/11086 [==============================] - 0s 17us/step - loss: 0.3537 - acc: 0.8750 - val_loss: 0.3510 - val_acc: 0.8750\n",
      "Epoch 5/20\n",
      "11086/11086 [==============================] - 0s 17us/step - loss: 0.3475 - acc: 0.8750 - val_loss: 0.3449 - val_acc: 0.8750\n",
      "Epoch 6/20\n",
      "11086/11086 [==============================] - 0s 18us/step - loss: 0.3415 - acc: 0.8750 - val_loss: 0.3390 - val_acc: 0.8750\n",
      "Epoch 7/20\n",
      "11086/11086 [==============================] - 0s 17us/step - loss: 0.3355 - acc: 0.8750 - val_loss: 0.3331 - val_acc: 0.8750\n",
      "Epoch 8/20\n",
      "11086/11086 [==============================] - 0s 17us/step - loss: 0.3296 - acc: 0.8750 - val_loss: 0.3273 - val_acc: 0.8750\n",
      "Epoch 9/20\n",
      "11086/11086 [==============================] - 0s 18us/step - loss: 0.3238 - acc: 0.8750 - val_loss: 0.3216 - val_acc: 0.8750\n",
      "Epoch 10/20\n",
      "11086/11086 [==============================] - 0s 17us/step - loss: 0.3182 - acc: 0.8750 - val_loss: 0.3160 - val_acc: 0.8750\n",
      "Epoch 11/20\n",
      "11086/11086 [==============================] - 0s 18us/step - loss: 0.3127 - acc: 0.8750 - val_loss: 0.3106 - val_acc: 0.8750\n",
      "Epoch 12/20\n",
      "11086/11086 [==============================] - 0s 17us/step - loss: 0.3072 - acc: 0.8750 - val_loss: 0.3053 - val_acc: 0.8750\n",
      "Epoch 13/20\n",
      "11086/11086 [==============================] - 0s 16us/step - loss: 0.3020 - acc: 0.8750 - val_loss: 0.3002 - val_acc: 0.8750\n",
      "Epoch 14/20\n",
      "11086/11086 [==============================] - 0s 16us/step - loss: 0.2969 - acc: 0.8750 - val_loss: 0.2952 - val_acc: 0.8750\n",
      "Epoch 15/20\n",
      "11086/11086 [==============================] - 0s 17us/step - loss: 0.2919 - acc: 0.8750 - val_loss: 0.2905 - val_acc: 0.8750\n",
      "Epoch 16/20\n",
      "11086/11086 [==============================] - 0s 16us/step - loss: 0.2871 - acc: 0.8750 - val_loss: 0.2859 - val_acc: 0.8750\n",
      "Epoch 17/20\n",
      "11086/11086 [==============================] - 0s 17us/step - loss: 0.2826 - acc: 0.8750 - val_loss: 0.2815 - val_acc: 0.8750\n",
      "Epoch 18/20\n",
      "11086/11086 [==============================] - 0s 17us/step - loss: 0.2785 - acc: 0.8750 - val_loss: 0.2774 - val_acc: 0.8750\n",
      "Epoch 19/20\n",
      "11086/11086 [==============================] - 0s 17us/step - loss: 0.2743 - acc: 0.8750 - val_loss: 0.2735 - val_acc: 0.8750\n",
      "Epoch 20/20\n",
      "11086/11086 [==============================] - 0s 17us/step - loss: 0.2706 - acc: 0.8750 - val_loss: 0.2698 - val_acc: 0.8750\n",
      "1378/1378 [==============================] - 0s 10us/step\n"
     ]
    },
    {
     "data": {
      "image/png": "[encoded data removed]",
      "text/plain": [
       "<Figure size 432x288 with 1 Axes>"
      ]
     },
     "metadata": {
      "needs_background": "light"
     },
     "output_type": "display_data"
    }
   ],
   "source": [
    "model = Sequential()\n",
    "model.add(Dense(units=256, activation='relu', input_dim=512))\n",
    "# model.add(Dropout(0.2))\n",
    "# model.add(Dense(units=128, activation='relu'))\n",
    "# model.add(Dropout(0.2))\n",
    "# model.add(Dense(units=64, activation='relu'))\n",
    "model.add(Dropout(0.2))\n",
    "model.add(Dense(units=8, activation='softmax'))\n",
    "\n",
    "history = LossHistory()\n",
    "\n",
    "optimizer = SGD(lr=1e-3, momentum=0.9)\n",
    "model.compile(loss = \"binary_crossentropy\", optimizer = optimizer, metrics = ['accuracy'])\n",
    "\n",
    "model.fit(x_train, y_train, epochs=20, batch_size=256, validation_data=(x_test, y_test), callbacks=[history])\n",
    "loss_and_metrics = model.evaluate(x_test, y_test, batch_size=128)\n",
    "\n",
    "history.loss_plot('batch')"
   ]
  }
 ],
 "metadata": {
  "kernelspec": {
   "display_name": "py36",
   "language": "python",
   "name": "py36"
  },
  "language_info": {
   "codemirror_mode": {
    "name": "ipython",
    "version": 3
   },
   "file_extension": ".py",
   "mimetype": "text/x-python",
   "name": "python",
   "nbconvert_exporter": "python",
   "pygments_lexer": "ipython3",
   "version": "3.6.7"
  }
 },
 "nbformat": 4,
 "nbformat_minor": 2
}
